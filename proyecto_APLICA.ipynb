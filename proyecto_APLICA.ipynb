{
  "nbformat": 4,
  "nbformat_minor": 0,
  "metadata": {
    "colab": {
      "name": "proyecto APLICA.ipynb",
      "provenance": [],
      "collapsed_sections": [],
      "include_colab_link": true
    },
    "kernelspec": {
      "name": "python3",
      "display_name": "Python 3"
    }
  },
  "cells": [
    {
      "cell_type": "markdown",
      "metadata": {
        "id": "view-in-github",
        "colab_type": "text"
      },
      "source": [
        "<a href=\"https://colab.research.google.com/github/agustinhuerta1/mat281_portfolio-/blob/master/proyecto_APLICA.ipynb\" target=\"_parent\"><img src=\"https://colab.research.google.com/assets/colab-badge.svg\" alt=\"Open In Colab\"/></a>"
      ]
    },
    {
      "cell_type": "code",
      "metadata": {
        "id": "Tccn4xLnt8_k"
      },
      "source": [
        "import pandas as pd\r\n",
        "import numpy as np\r\n",
        "import matplotlib.pyplot as plt\r\n",
        "import altair as alt\r\n",
        "\r\n",
        "import os\r\n",
        "from PIL import Image\r\n",
        "\r\n",
        "from pathlib import Path\r\n",
        "\r\n",
        "alt.themes.enable('opaque')  # Para quienes utilizan temas oscuros en Jupyter Lab\r\n",
        "%matplotlib inline"
      ],
      "execution_count": null,
      "outputs": []
    },
    {
      "cell_type": "markdown",
      "metadata": {
        "id": "I6V22zp7uYOf"
      },
      "source": [
        "# PARTE 1: \r\n"
      ]
    },
    {
      "cell_type": "code",
      "metadata": {
        "id": "8G-0-YFj1oHa"
      },
      "source": [
        "https://en.wikipedia.org/wiki/Lepiota#/media/File:Lepiota_clypeolaria.JPG\r\n",
        "\r\n",
        "https://en.wikipedia.org/wiki/Agaricus#/media/File:Agaricus_campestris.jpg"
      ],
      "execution_count": null,
      "outputs": []
    },
    {
      "cell_type": "code",
      "metadata": {
        "id": "1F4azk3om48p"
      },
      "source": [
        "lepiota = Image.open(Path().resolve().parent / \"images\" / 'Lepiota_clypeolaria.jpg' )\r\n",
        "lepiota"
      ],
      "execution_count": null,
      "outputs": []
    },
    {
      "cell_type": "code",
      "metadata": {
        "id": "bjdTGGD3m525"
      },
      "source": [
        "agaricus = Image.open(Path().resolve().parent / \"images\" / '800px-Agaricus_campestris.jpg')\r\n",
        "agaricus"
      ],
      "execution_count": null,
      "outputs": []
    },
    {
      "cell_type": "markdown",
      "metadata": {
        "id": "NwYD_31F8IAS"
      },
      "source": [
        "Presentación de los datos:"
      ]
    },
    {
      "cell_type": "code",
      "metadata": {
        "id": "kFVNkWedt7Gp"
      },
      "source": [
        "datapath = Path().resolve().parent / \"data-mushroom\"\r\n",
        "\r\n",
        "mushroom = pd.read_csv(\r\n",
        "    datapath / \"agaricus-lepiota.data\",\r\n",
        "    header=None,\r\n",
        "    names=[\"class\", \"cap-shape\", \"cap-surface\", \"cap-color\", \"bruises\", \"odor\", \"gill-attachment\", \"gill-spacing\", \r\n",
        "           \"gill-size\", \"gill-color\", \"stalk-shape\", \"stalk-root\", \"stalk-surface-above-ring\", \"stalk-surface-below-ring\",\r\n",
        "           \"stalk-color-above-ring\", \"stalk-color-below-ring\", \"veil-type\", \"veil-color\", \"ring-number\", \"ring-type\",\r\n",
        "           \"spore-print-color\",  \"population\" , \"habitat\"]\r\n",
        ")\r\n",
        "\r\n",
        "mushroom.head(10)"
      ],
      "execution_count": null,
      "outputs": []
    },
    {
      "cell_type": "markdown",
      "metadata": {
        "id": "WsyBbvlG8Lsp"
      },
      "source": [
        "Definición de las variables:"
      ]
    },
    {
      "cell_type": "markdown",
      "metadata": {
        "id": "Jd3VJUQZ787C"
      },
      "source": [
        "Attribute Information: (classes: edible=e, poisonous=p)\r\n",
        "\r\n",
        "     1. cap-shape:                bell=b,conical=c,convex=x,flat=f,\r\n",
        "                                  knobbed=k,sunken=s\r\n",
        "     2. cap-surface:              fibrous=f,grooves=g,scaly=y,smooth=s\r\n",
        "     3. cap-color:                brown=n,buff=b,cinnamon=c,gray=g,green=r,\r\n",
        "                                  pink=p,purple=u,red=e,white=w,yellow=y\r\n",
        "     4. bruises?:                 bruises=t,no=f\r\n",
        "     5. odor:                     almond=a,anise=l,creosote=c,fishy=y,foul=f,\r\n",
        "                                  musty=m,none=n,pungent=p,spicy=s\r\n",
        "     6. gill-attachment:          attached=a,descending=d,free=f,notched=n\r\n",
        "     7. gill-spacing:             close=c,crowded=w,distant=d\r\n",
        "     8. gill-size:                broad=b,narrow=n\r\n",
        "     9. gill-color:               black=k,brown=n,buff=b,chocolate=h,gray=g,\r\n",
        "                                  green=r,orange=o,pink=p,purple=u,red=e,\r\n",
        "                                  white=w,yellow=y\r\n",
        "    10. stalk-shape:              enlarging=e,tapering=t\r\n",
        "    11. stalk-root:               bulbous=b,club=c,cup=u,equal=e,\r\n",
        "                                  rhizomorphs=z,rooted=r,missing=?\r\n",
        "    12. stalk-surface-above-ring: fibrous=f,scaly=y,silky=k,smooth=s\r\n",
        "    13. stalk-surface-below-ring: fibrous=f,scaly=y,silky=k,smooth=s\r\n",
        "    14. stalk-color-above-ring:   brown=n,buff=b,cinnamon=c,gray=g,orange=o,\r\n",
        "                                  pink=p,red=e,white=w,yellow=y\r\n",
        "    15. stalk-color-below-ring:   brown=n,buff=b,cinnamon=c,gray=g,orange=o,\r\n",
        "                                  pink=p,red=e,white=w,yellow=y\r\n",
        "    16. veil-type:                partial=p,universal=u\r\n",
        "    17. veil-color:               brown=n,orange=o,white=w,yellow=y\r\n",
        "    18. ring-number:              none=n,one=o,two=t\r\n",
        "    19. ring-type:                cobwebby=c,evanescent=e,flaring=f,large=l,\r\n",
        "                                  none=n,pendant=p,sheathing=s,zone=z\r\n",
        "    20. spore-print-color:        black=k,brown=n,buff=b,chocolate=h,green=r,\r\n",
        "                                  orange=o,purple=u,white=w,yellow=y\r\n",
        "    21. population:               abundant=a,clustered=c,numerous=n,\r\n",
        "                                  scattered=s,several=v,solitary=y\r\n",
        "    22. habitat:                  grasses=g,leaves=l,meadows=m,paths=p,\r\n",
        "                                  urban=u,waste=w,woods=d"
      ]
    },
    {
      "cell_type": "markdown",
      "metadata": {
        "id": "HcGOyauW8T_J"
      },
      "source": [
        ""
      ]
    },
    {
      "cell_type": "markdown",
      "metadata": {
        "id": "4zOqHIpYueRn"
      },
      "source": [
        "# PARTE 2: ¿Cuál es la pregunta que desean resolver?"
      ]
    },
    {
      "cell_type": "markdown",
      "metadata": {
        "id": "mIGlxwO3uhBo"
      },
      "source": [
        "ver la problematica\r\n",
        "\r\n",
        "dudas que me aparecen:\r\n",
        "¿donde fueron tomados estos datos?\r\n",
        "¿año?\r\n",
        "¿que son estos hongos?¿que tipos hay? (simple)\r\n",
        "\r\n",
        "idea: ¿cómo determinar si el elemento es comestible o venenoso?. Si llega a ser demasiado complejo, ¿qué alcances podemos hacer?\r\n"
      ]
    },
    {
      "cell_type": "markdown",
      "metadata": {
        "id": "rnNFkrIcubvg"
      },
      "source": [
        "# PARTE 3: Análisis estadístico de los datos."
      ]
    },
    {
      "cell_type": "code",
      "metadata": {
        "id": "he4RpdZ5tcbT"
      },
      "source": [
        "mushroom.describe().T"
      ],
      "execution_count": null,
      "outputs": []
    },
    {
      "cell_type": "markdown",
      "metadata": {
        "id": "KMlZbkSwh_wj"
      },
      "source": [
        "# PARTE 4: VISUALIZACIÓN"
      ]
    },
    {
      "cell_type": "code",
      "metadata": {
        "id": "D1Hw1MHniI4M"
      },
      "source": [
        "#mushroom.replace({\"?\": np.nan}, inplace = True)\r\n",
        "mushroom[\"count_p_e\"] = 1\r\n",
        "\r\n",
        "for j in mushroom.columns.drop([\"class\",\"count_p_e\"]):\r\n",
        "    df = mushroom[[\"class\",j,\"count_p_e\"]].groupby([j,\"class\"])[\"count_p_e\"].apply(sum).unstack(\"class\").replace(np.nan,0)\r\n",
        "    df = df.reset_index()\r\n",
        "    df.plot(x = j,kind='bar',figsize=(10,6))"
      ],
      "execution_count": null,
      "outputs": []
    },
    {
      "cell_type": "markdown",
      "metadata": {
        "id": "4eUTUYd6i_aD"
      },
      "source": [
        "# PARTE 5: ¿Hay que realizar preprocesamiento? "
      ]
    },
    {
      "cell_type": "markdown",
      "metadata": {
        "id": "Ooq0wyOYkl-q"
      },
      "source": [
        "Como nuestro conjunto de datos solo contiene variables nominales no será necesario realizar un preprocesamiento."
      ]
    },
    {
      "cell_type": "markdown",
      "metadata": {
        "id": "eqiecBnDi_cs"
      },
      "source": [
        "# PARTE 6: ¿Hay que realizar inputación de datos faltantes?\r\n",
        "\r\n"
      ]
    },
    {
      "cell_type": "markdown",
      "metadata": {
        "id": "QggZIvGRj5ck"
      },
      "source": [
        "Para responder a esta interrogante primero analisaremos un poco mas nuestro conjunto de datos."
      ]
    },
    {
      "cell_type": "code",
      "metadata": {
        "id": "52t6ImPgjmtS"
      },
      "source": [
        "mushroom.isnull().values.any()"
      ],
      "execution_count": null,
      "outputs": []
    },
    {
      "cell_type": "markdown",
      "metadata": {
        "id": "FKjhJ25Jjq_p"
      },
      "source": [
        "**RESULTADO:** TRUE\r\n",
        "\r\n",
        "Vemos que si hay columnas que contienen valores nulos, por lo tanto ahora nos gustaria saber cual o cuales de estas columnas tiene valores nulos. "
      ]
    },
    {
      "cell_type": "code",
      "metadata": {
        "id": "RSDU2MQGjr5S"
      },
      "source": [
        "mushroom.isnull().any()"
      ],
      "execution_count": null,
      "outputs": []
    },
    {
      "cell_type": "markdown",
      "metadata": {
        "id": "CwuAiNxNkI7K"
      },
      "source": [
        "**RESULTADO:** stalk-root tiene entrada con valores nulos\r\n"
      ]
    }
  ]
}